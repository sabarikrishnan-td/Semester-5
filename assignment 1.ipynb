{
 "cells": [
  {
   "cell_type": "code",
   "execution_count": 1,
   "id": "8c9ae187-6b21-4c16-9f32-3a11dbbc4298",
   "metadata": {},
   "outputs": [
    {
     "name": "stdout",
     "output_type": "stream",
     "text": [
      "original list: [1, 3, 4, 5, 55, 55, 6, 50]\n",
      "removed list: [1, 3, 4, 5, 55, 6, 50]\n"
     ]
    }
   ],
   "source": [
    "def delete(list):\n",
    "    empty_list=[]\n",
    "    for i in list:\n",
    "        if i not in empty_list:\n",
    "            empty_list.append(i)\n",
    "    return empty_list\n",
    "list=[1,3,4,5,55,55,6,50]\n",
    "empty_list=delete(list)\n",
    "print(\"original list:\", list)\n",
    "print(\"removed list:\", empty_list)"
   ]
  },
  {
   "cell_type": "code",
   "execution_count": null,
   "id": "53077e18-fa11-41f9-b7bb-5a416b43178b",
   "metadata": {},
   "outputs": [],
   "source": []
  }
 ],
 "metadata": {
  "kernelspec": {
   "display_name": "Python 3 (ipykernel)",
   "language": "python",
   "name": "python3"
  },
  "language_info": {
   "codemirror_mode": {
    "name": "ipython",
    "version": 3
   },
   "file_extension": ".py",
   "mimetype": "text/x-python",
   "name": "python",
   "nbconvert_exporter": "python",
   "pygments_lexer": "ipython3",
   "version": "3.12.4"
  }
 },
 "nbformat": 4,
 "nbformat_minor": 5
}
